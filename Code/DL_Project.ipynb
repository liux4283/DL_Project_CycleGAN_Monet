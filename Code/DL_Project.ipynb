{
  "nbformat": 4,
  "nbformat_minor": 0,
  "metadata": {
    "colab": {
      "name": "DL_Project.ipynb",
      "provenance": [],
      "collapsed_sections": [],
      "toc_visible": true,
      "machine_shape": "hm"
    },
    "kernelspec": {
      "display_name": "Python 3",
      "name": "python3"
    },
    "language_info": {
      "name": "python"
    },
    "accelerator": "GPU"
  },
  "cells": [
    {
      "cell_type": "code",
      "metadata": {
        "id": "ikDZq_CwiN2w"
      },
      "source": [
        "! pip install -q kaggle"
      ],
      "execution_count": null,
      "outputs": []
    },
    {
      "cell_type": "code",
      "metadata": {
        "colab": {
          "base_uri": "https://localhost:8080/",
          "height": 35
        },
        "id": "6crIEkFJZaR0",
        "outputId": "c4f0e758-4c0e-4c50-c68f-013c5e7fc2a3"
      },
      "source": [
        "import os\n",
        "os.getcwd()"
      ],
      "execution_count": null,
      "outputs": [
        {
          "output_type": "execute_result",
          "data": {
            "application/vnd.google.colaboratory.intrinsic+json": {
              "type": "string"
            },
            "text/plain": [
              "'/content'"
            ]
          },
          "metadata": {
            "tags": []
          },
          "execution_count": 2
        }
      ]
    },
    {
      "cell_type": "code",
      "metadata": {
        "colab": {
          "resources": {
            "http://localhost:8080/nbextensions/google.colab/files.js": {
              "data": "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",
              "ok": true,
              "headers": [
                [
                  "content-type",
                  "application/javascript"
                ]
              ],
              "status": 200,
              "status_text": ""
            }
          },
          "base_uri": "https://localhost:8080/",
          "height": 91
        },
        "id": "x37pJ7UliUgc",
        "outputId": "c6678688-a03f-4b68-d8ec-d45d45c78014"
      },
      "source": [
        "from google.colab import files\n",
        "files.upload()"
      ],
      "execution_count": null,
      "outputs": [
        {
          "output_type": "display_data",
          "data": {
            "text/html": [
              "\n",
              "     <input type=\"file\" id=\"files-8d1e5e61-bfda-430c-ade7-ccc33af5c2dc\" name=\"files[]\" multiple disabled\n",
              "        style=\"border:none\" />\n",
              "     <output id=\"result-8d1e5e61-bfda-430c-ade7-ccc33af5c2dc\">\n",
              "      Upload widget is only available when the cell has been executed in the\n",
              "      current browser session. Please rerun this cell to enable.\n",
              "      </output>\n",
              "      <script src=\"/nbextensions/google.colab/files.js\"></script> "
            ],
            "text/plain": [
              "<IPython.core.display.HTML object>"
            ]
          },
          "metadata": {
            "tags": []
          }
        },
        {
          "output_type": "stream",
          "text": [
            "Saving kaggle.json to kaggle.json\n"
          ],
          "name": "stdout"
        },
        {
          "output_type": "execute_result",
          "data": {
            "text/plain": [
              "{'kaggle.json': b'{\"username\":\"liux4283\",\"key\":\"81c48d126da128fa9997b4958be8b7f5\"}'}"
            ]
          },
          "metadata": {
            "tags": []
          },
          "execution_count": 3
        }
      ]
    },
    {
      "cell_type": "code",
      "metadata": {
        "id": "hETFeALxlpfg"
      },
      "source": [
        "! mkdir ~/.kaggle\n",
        "! cp kaggle.json ~/.kaggle/"
      ],
      "execution_count": null,
      "outputs": []
    },
    {
      "cell_type": "code",
      "metadata": {
        "id": "maaw5cyVlsJw"
      },
      "source": [
        "! chmod 600 ~/.kaggle/kaggle.json"
      ],
      "execution_count": null,
      "outputs": []
    },
    {
      "cell_type": "code",
      "metadata": {
        "id": "EpzbDww1luZ3",
        "colab": {
          "base_uri": "https://localhost:8080/"
        },
        "outputId": "39384c2d-42a1-4fe1-f050-20138cbc6b37"
      },
      "source": [
        "! kaggle datasets list"
      ],
      "execution_count": null,
      "outputs": [
        {
          "output_type": "stream",
          "text": [
            "Warning: Looks like you're using an outdated API Version, please consider updating (server 1.5.12 / client 1.5.4)\n",
            "ref                                                         title                                              size  lastUpdated          downloadCount  \n",
            "----------------------------------------------------------  ------------------------------------------------  -----  -------------------  -------------  \n",
            "gpreda/reddit-vaccine-myths                                 Reddit Vaccine Myths                              227KB  2021-05-08 09:30:51           4693  \n",
            "crowww/a-large-scale-fish-dataset                           A Large Scale Fish Dataset                          3GB  2021-04-28 17:03:01           2692  \n",
            "mathurinache/twitter-edge-nodes                             Twitter Edge Nodes                                342MB  2021-03-08 06:43:04            290  \n",
            "promptcloud/careerbuilder-job-listing-2020                  Careerbuilder Job Listing 2020                     42MB  2021-03-05 06:59:52            655  \n",
            "dhruvildave/wikibooks-dataset                               Wikibooks Dataset                                   1GB  2021-02-18 10:08:27           1636  \n",
            "imsparsh/musicnet-dataset                                   MusicNet Dataset                                   22GB  2021-02-18 14:12:19            952  \n",
            "alsgroup/end-als                                            End ALS Kaggle Challenge                           12GB  2021-04-08 12:16:37            596  \n",
            "nickuzmenkov/nih-chest-xrays-tfrecords                      NIH Chest X-rays TFRecords                         11GB  2021-03-09 04:49:23            427  \n",
            "simiotic/github-code-snippets                               GitHub Code Snippets                                7GB  2021-03-03 11:34:39             99  \n",
            "mathurinache/the-lj-speech-dataset                          The LJ Speech Dataset                               3GB  2021-02-15 09:19:54            122  \n",
            "fatiimaezzahra/famous-iconic-women                          Famous Iconic Women                               838MB  2021-02-28 14:56:00            513  \n",
            "coloradokb/dandelionimages                                  DandelionImages                                     4GB  2021-02-19 20:03:47            261  \n",
            "imsparsh/accentdb-core-extended                             AccentDB - Core & Extended                          6GB  2021-02-17 14:22:54             55  \n",
            "stuartjames/lights                                          LightS: Light Specularity Dataset                  18GB  2021-02-18 14:32:26             41  \n",
            "nickuzmenkov/ranzcr-clip-kfold-tfrecords                    RANZCR CLiP KFold TFRecords                         2GB  2021-02-21 13:29:51             68  \n",
            "landrykezebou/lvzhdr-tone-mapping-benchmark-dataset-tmonet  LVZ-HDR Tone Mapping Benchmark Dataset (TMO-Net)   24GB  2021-03-01 05:03:40             61  \n",
            "datasnaek/youtube-new                                       Trending YouTube Video Statistics                 201MB  2019-06-03 00:56:47         138922  \n",
            "zynicide/wine-reviews                                       Wine Reviews                                       51MB  2017-11-27 17:08:04         135775  \n",
            "datasnaek/chess                                             Chess Game Dataset (Lichess)                        3MB  2017-09-04 03:09:09          17727  \n",
            "residentmario/ramen-ratings                                 Ramen Ratings                                      40KB  2018-01-11 16:04:39          22556  \n"
          ],
          "name": "stdout"
        }
      ]
    },
    {
      "cell_type": "code",
      "metadata": {
        "id": "8G2fdIHXlzjy",
        "colab": {
          "base_uri": "https://localhost:8080/"
        },
        "outputId": "e2a55998-a243-496f-cf81-9dea6aafe45d"
      },
      "source": [
        "! kaggle competitions download -c gan-getting-started"
      ],
      "execution_count": null,
      "outputs": [
        {
          "output_type": "stream",
          "text": [
            "Warning: Looks like you're using an outdated API Version, please consider updating (server 1.5.12 / client 1.5.4)\n",
            "Downloading photo15-352.tfrec.zip to /content\n",
            " 71% 9.00M/12.7M [00:00<00:00, 15.6MB/s]\n",
            "100% 12.7M/12.7M [00:00<00:00, 20.1MB/s]\n",
            "Downloading photo19-350.tfrec.zip to /content\n",
            " 70% 9.00M/12.9M [00:00<00:00, 12.9MB/s]\n",
            "100% 12.9M/12.9M [00:00<00:00, 16.6MB/s]\n",
            "Downloading photo04-352.tfrec.zip to /content\n",
            " 38% 5.00M/13.1M [00:00<00:01, 6.50MB/s]\n",
            "100% 13.1M/13.1M [00:00<00:00, 15.0MB/s]\n",
            "Downloading photo06-352.tfrec.zip to /content\n",
            " 69% 9.00M/13.0M [00:00<00:00, 11.2MB/s]\n",
            "100% 13.0M/13.0M [00:00<00:00, 14.1MB/s]\n",
            "Downloading photo13-352.tfrec.zip to /content\n",
            " 70% 9.00M/12.9M [00:00<00:00, 12.8MB/s]\n",
            "100% 12.9M/12.9M [00:00<00:00, 15.6MB/s]\n",
            "Downloading photo14-352.tfrec.zip to /content\n",
            " 68% 9.00M/13.2M [00:00<00:00, 16.4MB/s]\n",
            "100% 13.2M/13.2M [00:00<00:00, 22.4MB/s]\n",
            "Downloading photo18-352.tfrec.zip to /content\n",
            " 79% 10.0M/12.6M [00:00<00:00, 13.9MB/s]\n",
            "100% 12.6M/12.6M [00:00<00:00, 19.9MB/s]\n",
            "Downloading photo08-352.tfrec.zip to /content\n",
            " 38% 5.00M/13.0M [00:00<00:00, 11.9MB/s]\n",
            "100% 13.0M/13.0M [00:00<00:00, 26.6MB/s]\n",
            "Downloading photo05-352.tfrec.zip to /content\n",
            " 67% 9.00M/13.4M [00:00<00:00, 17.1MB/s]\n",
            "100% 13.4M/13.4M [00:00<00:00, 22.8MB/s]\n",
            "Downloading photo12-352.tfrec.zip to /content\n",
            " 39% 5.00M/12.9M [00:01<00:02, 3.96MB/s]\n",
            "100% 12.9M/12.9M [00:01<00:00, 9.51MB/s]\n",
            "Downloading photo16-352.tfrec.zip to /content\n",
            " 70% 9.00M/12.8M [00:00<00:00, 16.4MB/s]\n",
            "100% 12.8M/12.8M [00:00<00:00, 23.8MB/s]\n",
            "Downloading photo01-352.tfrec.zip to /content\n",
            " 71% 9.00M/12.7M [00:00<00:00, 17.6MB/s]\n",
            "100% 12.7M/12.7M [00:00<00:00, 25.8MB/s]\n",
            "Downloading photo02-352.tfrec.zip to /content\n",
            " 87% 11.0M/12.6M [00:00<00:00, 20.3MB/s]\n",
            "100% 12.6M/12.6M [00:00<00:00, 28.5MB/s]\n",
            "Downloading photo03-352.tfrec.zip to /content\n",
            " 39% 5.00M/12.8M [00:01<00:02, 3.97MB/s]\n",
            "100% 12.8M/12.8M [00:01<00:00, 9.43MB/s]\n",
            "Downloading photo10-352.tfrec.zip to /content\n",
            " 69% 9.00M/13.0M [00:00<00:00, 13.9MB/s]\n",
            "100% 13.0M/13.0M [00:00<00:00, 19.0MB/s]\n",
            "Downloading photo09-352.tfrec.zip to /content\n",
            " 69% 9.00M/13.0M [00:00<00:00, 15.0MB/s]\n",
            "100% 13.0M/13.0M [00:00<00:00, 22.2MB/s]\n",
            "Downloading photo07-352.tfrec.zip to /content\n",
            " 39% 5.00M/12.9M [00:00<00:01, 5.73MB/s]\n",
            "100% 12.9M/12.9M [00:00<00:00, 14.0MB/s]\n",
            "Downloading photo17-352.tfrec.zip to /content\n",
            " 68% 9.00M/13.2M [00:00<00:00, 12.2MB/s]\n",
            "100% 13.2M/13.2M [00:00<00:00, 15.1MB/s]\n",
            "Downloading photo00-352.tfrec.zip to /content\n",
            " 69% 9.00M/13.1M [00:00<00:00, 11.7MB/s]\n",
            "100% 13.1M/13.1M [00:00<00:00, 15.0MB/s]\n",
            "Downloading photo11-352.tfrec.zip to /content\n",
            " 68% 9.00M/13.2M [00:01<00:00, 10.3MB/s]\n",
            "100% 13.2M/13.2M [00:01<00:00, 13.0MB/s]\n",
            "Downloading 011835cfbf.jpg to /content\n",
            "  0% 0.00/23.4k [00:00<?, ?B/s]\n",
            "100% 23.4k/23.4k [00:00<00:00, 24.6MB/s]\n",
            "Downloading 064487d630.jpg to /content\n",
            "  0% 0.00/13.4k [00:00<?, ?B/s]\n",
            "100% 13.4k/13.4k [00:00<00:00, 13.5MB/s]\n",
            "Downloading 049e293b93.jpg to /content\n",
            "  0% 0.00/11.8k [00:00<?, ?B/s]\n",
            "100% 11.8k/11.8k [00:00<00:00, 10.4MB/s]\n",
            "Downloading 118da0690c.jpg to /content\n",
            "  0% 0.00/19.7k [00:00<?, ?B/s]\n",
            "100% 19.7k/19.7k [00:00<00:00, 20.2MB/s]\n",
            "Downloading 000c1e3bff.jpg to /content\n",
            "  0% 0.00/13.0k [00:00<?, ?B/s]\n",
            "100% 13.0k/13.0k [00:00<00:00, 13.4MB/s]\n",
            "Downloading 106757e5d8.jpg to /content\n",
            "  0% 0.00/11.2k [00:00<?, ?B/s]\n",
            "100% 11.2k/11.2k [00:00<00:00, 11.6MB/s]\n",
            "Downloading 0260d15306.jpg to /content\n",
            "  0% 0.00/10.4k [00:00<?, ?B/s]\n",
            "100% 10.4k/10.4k [00:00<00:00, 9.53MB/s]\n",
            "Downloading 0bd913dbc7.jpg to /content\n",
            "  0% 0.00/18.0k [00:00<?, ?B/s]\n",
            "100% 18.0k/18.0k [00:00<00:00, 17.8MB/s]\n",
            "Downloading 0a5075d42a.jpg to /content\n",
            "  0% 0.00/19.4k [00:00<?, ?B/s]\n",
            "100% 19.4k/19.4k [00:00<00:00, 20.1MB/s]\n",
            "Downloading 066fe4cbaa.jpg to /content\n",
            "  0% 0.00/17.9k [00:00<?, ?B/s]\n",
            "100% 17.9k/17.9k [00:00<00:00, 19.1MB/s]\n",
            "Downloading 09b76b6471.jpg to /content\n",
            "  0% 0.00/25.4k [00:00<?, ?B/s]\n",
            "100% 25.4k/25.4k [00:00<00:00, 26.5MB/s]\n",
            "Downloading 052a77c020.jpg to /content\n",
            "  0% 0.00/18.1k [00:00<?, ?B/s]\n",
            "100% 18.1k/18.1k [00:00<00:00, 16.1MB/s]\n",
            "Downloading 05b493ff42.jpg to /content\n",
            "  0% 0.00/15.0k [00:00<?, ?B/s]\n",
            "100% 15.0k/15.0k [00:00<00:00, 15.6MB/s]\n",
            "Downloading 11ab570c5e.jpg to /content\n",
            "  0% 0.00/16.3k [00:00<?, ?B/s]\n",
            "100% 16.3k/16.3k [00:00<00:00, 16.8MB/s]\n",
            "Downloading 0e3b3292da.jpg to /content\n",
            "  0% 0.00/11.1k [00:00<?, ?B/s]\n",
            "100% 11.1k/11.1k [00:00<00:00, 10.0MB/s]\n",
            "Downloading 1078363ff0.jpg to /content\n",
            "  0% 0.00/17.6k [00:00<?, ?B/s]\n",
            "100% 17.6k/17.6k [00:00<00:00, 18.2MB/s]\n",
            "Downloading 058f878b7c.jpg to /content\n",
            "  0% 0.00/14.7k [00:00<?, ?B/s]\n",
            "100% 14.7k/14.7k [00:00<00:00, 16.0MB/s]\n",
            "Downloading 07fcaee35f.jpg to /content\n",
            "  0% 0.00/9.16k [00:00<?, ?B/s]\n",
            "100% 9.16k/9.16k [00:00<00:00, 9.18MB/s]\n",
            "Downloading 10c555c1b1.jpg to /content\n",
            "  0% 0.00/17.6k [00:00<?, ?B/s]\n",
            "100% 17.6k/17.6k [00:00<00:00, 15.8MB/s]\n",
            "Downloading 05144e306f.jpg to /content\n",
            "  0% 0.00/11.3k [00:00<?, ?B/s]\n",
            "100% 11.3k/11.3k [00:00<00:00, 11.6MB/s]\n",
            "Downloading monet04-60.tfrec.zip to /content\n",
            "  0% 0.00/1.94M [00:00<?, ?B/s]\n",
            "100% 1.94M/1.94M [00:00<00:00, 64.3MB/s]\n",
            "Downloading monet08-60.tfrec.zip to /content\n",
            "  0% 0.00/1.87M [00:00<?, ?B/s]\n",
            "100% 1.87M/1.87M [00:00<00:00, 127MB/s]\n",
            "Downloading monet00-60.tfrec.zip to /content\n",
            "  0% 0.00/2.12M [00:00<?, ?B/s]\n",
            "100% 2.12M/2.12M [00:00<00:00, 143MB/s]\n",
            "Downloading monet12-60.tfrec.zip to /content\n",
            "  0% 0.00/1.88M [00:00<?, ?B/s]\n",
            "100% 1.88M/1.88M [00:00<00:00, 62.7MB/s]\n",
            "Downloading monet16-60.tfrec.zip to /content\n",
            "  0% 0.00/1.93M [00:00<?, ?B/s]\n",
            "100% 1.93M/1.93M [00:00<00:00, 63.7MB/s]\n",
            "Downloading 009d534136.jpg to /content\n",
            "  0% 0.00/12.9k [00:00<?, ?B/s]\n",
            "100% 12.9k/12.9k [00:00<00:00, 13.4MB/s]\n",
            "Downloading 00104fd531.jpg to /content\n",
            "  0% 0.00/7.76k [00:00<?, ?B/s]\n",
            "100% 7.76k/7.76k [00:00<00:00, 7.97MB/s]\n",
            "Downloading 005f987f56.jpg to /content\n",
            "  0% 0.00/4.28k [00:00<?, ?B/s]\n",
            "100% 4.28k/4.28k [00:00<00:00, 3.78MB/s]\n",
            "Downloading 00aeb60e25.jpg to /content\n",
            "  0% 0.00/13.5k [00:00<?, ?B/s]\n",
            "100% 13.5k/13.5k [00:00<00:00, 12.2MB/s]\n",
            "Downloading 000ded5c41.jpg to /content\n",
            "  0% 0.00/9.82k [00:00<?, ?B/s]\n",
            "100% 9.82k/9.82k [00:00<00:00, 10.1MB/s]\n",
            "Downloading 00dff09ebe.jpg to /content\n",
            "  0% 0.00/10.1k [00:00<?, ?B/s]\n",
            "100% 10.1k/10.1k [00:00<00:00, 8.92MB/s]\n",
            "Downloading 003aab6fdd.jpg to /content\n",
            "  0% 0.00/22.8k [00:00<?, ?B/s]\n",
            "100% 22.8k/22.8k [00:00<00:00, 23.8MB/s]\n",
            "Downloading 000910d219.jpg to /content\n",
            "  0% 0.00/15.3k [00:00<?, ?B/s]\n",
            "100% 15.3k/15.3k [00:00<00:00, 15.6MB/s]\n",
            "Downloading 0080f94ebc.jpg to /content\n",
            "  0% 0.00/8.17k [00:00<?, ?B/s]\n",
            "100% 8.17k/8.17k [00:00<00:00, 8.24MB/s]\n",
            "Downloading 00068bc07f.jpg to /content\n",
            "  0% 0.00/14.4k [00:00<?, ?B/s]\n",
            "100% 14.4k/14.4k [00:00<00:00, 14.3MB/s]\n",
            "Downloading 0039ebb598.jpg to /content\n",
            "  0% 0.00/8.66k [00:00<?, ?B/s]\n",
            "100% 8.66k/8.66k [00:00<00:00, 7.86MB/s]\n",
            "Downloading 00479e2a21.jpg to /content\n",
            "  0% 0.00/5.99k [00:00<?, ?B/s]\n",
            "100% 5.99k/5.99k [00:00<00:00, 6.08MB/s]\n",
            "Downloading 00882b7e1d.jpg to /content\n",
            "  0% 0.00/8.27k [00:00<?, ?B/s]\n",
            "100% 8.27k/8.27k [00:00<00:00, 7.52MB/s]\n",
            "Downloading 00dcf0f1e3.jpg to /content\n",
            "  0% 0.00/12.2k [00:00<?, ?B/s]\n",
            "100% 12.2k/12.2k [00:00<00:00, 11.2MB/s]\n",
            "Downloading 003c6c30e0.jpg to /content\n",
            "  0% 0.00/13.5k [00:00<?, ?B/s]\n",
            "100% 13.5k/13.5k [00:00<00:00, 12.4MB/s]\n",
            "Downloading 00e1798585.jpg to /content\n",
            "  0% 0.00/13.5k [00:00<?, ?B/s]\n",
            "100% 13.5k/13.5k [00:00<00:00, 13.6MB/s]\n",
            "Downloading 001158d595.jpg to /content\n",
            "  0% 0.00/10.9k [00:00<?, ?B/s]\n",
            "100% 10.9k/10.9k [00:00<00:00, 9.85MB/s]\n",
            "Downloading 00c6a0ad1e.jpg to /content\n",
            "  0% 0.00/19.3k [00:00<?, ?B/s]\n",
            "100% 19.3k/19.3k [00:00<00:00, 18.5MB/s]\n",
            "Downloading 009ddaed1f.jpg to /content\n",
            "  0% 0.00/16.4k [00:00<?, ?B/s]\n",
            "100% 16.4k/16.4k [00:00<00:00, 16.9MB/s]\n",
            "Downloading 0033c5f971.jpg to /content\n",
            "  0% 0.00/9.20k [00:00<?, ?B/s]\n",
            "100% 9.20k/9.20k [00:00<00:00, 7.56MB/s]\n"
          ],
          "name": "stdout"
        }
      ]
    },
    {
      "cell_type": "code",
      "metadata": {
        "colab": {
          "base_uri": "https://localhost:8080/"
        },
        "id": "R7XCCJTqmCcb",
        "outputId": "6d2a20b1-e348-4302-f523-6dd32673dcda"
      },
      "source": [
        "# import data file\n",
        "import tensorflow as tf\n",
        "MONET_FILENAMES = tf.io.gfile.glob(str('monet*.tfrec.zip'))\n",
        "print('Monet TFRecord Files:', len(MONET_FILENAMES))\n",
        "\n",
        "PHOTO_FILENAMES = tf.io.gfile.glob(str('photo*.tfrec.zip'))\n",
        "print('Photo TFRecord Files:', len(PHOTO_FILENAMES))\n",
        "\n"
      ],
      "execution_count": null,
      "outputs": [
        {
          "output_type": "stream",
          "text": [
            "Monet TFRecord Files: 5\n",
            "Photo TFRecord Files: 20\n"
          ],
          "name": "stdout"
        }
      ]
    },
    {
      "cell_type": "code",
      "metadata": {
        "id": "Fcj97hHR377o"
      },
      "source": [
        "# get the list of files\n",
        "import zipfile, os\n",
        "\n",
        "for file in MONET_FILENAMES:   # get the list of files\n",
        "    if zipfile.is_zipfile(file): # if it is a zipfile, extract it\n",
        "        with zipfile.ZipFile(file) as item: # treat the file as a zip\n",
        "           item.extractall() \n",
        "\n",
        "for file in PHOTO_FILENAMES:   # get the list of files\n",
        "    if zipfile.is_zipfile(file): # if it is a zipfile, extract it\n",
        "        with zipfile.ZipFile(file) as item: # treat the file as a zip\n",
        "           item.extractall() "
      ],
      "execution_count": null,
      "outputs": []
    },
    {
      "cell_type": "code",
      "metadata": {
        "colab": {
          "base_uri": "https://localhost:8080/"
        },
        "id": "a7NiH5Xm8-2u",
        "outputId": "37e07938-792b-435a-be04-75ce714a2c72"
      },
      "source": [
        "# read tfrecord file\n",
        "MONET_FILENAMES = tf.io.gfile.glob(str('monet*.tfrec'))\n",
        "print('Monet TFRecord Files:', len(MONET_FILENAMES))\n",
        "\n",
        "PHOTO_FILENAMES = tf.io.gfile.glob(str('photo*.tfrec'))\n",
        "print('Photo TFRecord Files:', len(PHOTO_FILENAMES))"
      ],
      "execution_count": null,
      "outputs": [
        {
          "output_type": "stream",
          "text": [
            "Monet TFRecord Files: 5\n",
            "Photo TFRecord Files: 20\n"
          ],
          "name": "stdout"
        }
      ]
    },
    {
      "cell_type": "code",
      "metadata": {
        "colab": {
          "base_uri": "https://localhost:8080/"
        },
        "id": "lv6VklxTDHo4",
        "outputId": "c79f4a4a-1dba-4771-f08b-0d48abd6af30"
      },
      "source": [
        "MONET_FILENAMES"
      ],
      "execution_count": null,
      "outputs": [
        {
          "output_type": "execute_result",
          "data": {
            "text/plain": [
              "['./monet12-60.tfrec',\n",
              " './monet04-60.tfrec',\n",
              " './monet00-60.tfrec',\n",
              " './monet08-60.tfrec',\n",
              " './monet16-60.tfrec']"
            ]
          },
          "metadata": {
            "tags": []
          },
          "execution_count": 11
        }
      ]
    },
    {
      "cell_type": "code",
      "metadata": {
        "id": "aYF_20Iuym1n"
      },
      "source": [
        "# define some utility functions for later use\n",
        "IMAGE_SIZE = [256,256]\n",
        "def decode_image(image):\n",
        "    image = tf.image.decode_jpeg(image, channels=3)\n",
        "    image = tf.cast(image, tf.float32) / 127.5 - 1.0\n",
        "    image = tf.reshape(image, [*IMAGE_SIZE,3])\n",
        "    return image\n",
        "\n",
        "\n",
        "def read_tfrecord(example):\n",
        "    tfrecord_format = {\n",
        "        \"image_name\": tf.io.FixedLenFeature([], tf.string),\n",
        "        \"image\": tf.io.FixedLenFeature([], tf.string),\n",
        "        \"target\": tf.io.FixedLenFeature([], tf.string)\n",
        "    }\n",
        "    example = tf.io.parse_single_example(example, tfrecord_format)\n",
        "    image = decode_image(example['image'])\n",
        "    return image\n",
        "\n",
        "def data_augment(image):\n",
        "    p_rotate = tf.random.uniform([], 0, 1.0, dtype=tf.float32)\n",
        "    p_spatial = tf.random.uniform([], 0, 1.0, dtype=tf.float32)\n",
        "    p_crop = tf.random.uniform([], 0, 1.0, dtype=tf.float32)\n",
        "    \n",
        "    # Apply jitter\n",
        "    if p_crop > .5:\n",
        "        image = tf.image.resize(image, [286, 286])\n",
        "        image = tf.image.random_crop(image, size=[256, 256, 3])\n",
        "        if p_crop > .9:\n",
        "            image = tf.image.resize(image, [300, 300])\n",
        "            image = tf.image.random_crop(image, size=[256, 256, 3])\n",
        "    \n",
        "    # Random rotation\n",
        "    if p_rotate > .9:\n",
        "        image = tf.image.rot90(image, k=3) # rotate 270º\n",
        "    elif p_rotate > .7:\n",
        "        image = tf.image.rot90(image, k=2) # rotate 180º\n",
        "    elif p_rotate > .5:\n",
        "        image = tf.image.rot90(image, k=1) # rotate 90º\n",
        "    \n",
        "    # Random mirroring\n",
        "    if p_spatial > .6:\n",
        "        image = tf.image.random_flip_left_right(image)\n",
        "        image = tf.image.random_flip_up_down(image)\n",
        "        if p_spatial > .9:\n",
        "            image = tf.image.transpose(image)\n",
        "    \n",
        "    return image\n",
        "\n",
        "def load_dataset(filenames, labeled=True, ordered=False):\n",
        "    dataset = tf.data.TFRecordDataset(filenames)\n",
        "    dataset = dataset.map(read_tfrecord, num_parallel_calls=AUTOTUNE)\n",
        "    return dataset"
      ],
      "execution_count": null,
      "outputs": []
    },
    {
      "cell_type": "code",
      "metadata": {
        "colab": {
          "base_uri": "https://localhost:8080/"
        },
        "id": "c-c1INmI6PTs",
        "outputId": "f8ad6d19-cb51-4823-ddb2-8c63a7cbf7d4"
      },
      "source": [
        "MONET_FILENAMES"
      ],
      "execution_count": null,
      "outputs": [
        {
          "output_type": "execute_result",
          "data": {
            "text/plain": [
              "['./monet12-60.tfrec',\n",
              " './monet04-60.tfrec',\n",
              " './monet00-60.tfrec',\n",
              " './monet08-60.tfrec',\n",
              " './monet16-60.tfrec']"
            ]
          },
          "metadata": {
            "tags": []
          },
          "execution_count": 13
        }
      ]
    },
    {
      "cell_type": "code",
      "metadata": {
        "id": "2btQv8ui3gop",
        "colab": {
          "base_uri": "https://localhost:8080/"
        },
        "outputId": "56a7b9a0-8e9f-4394-9532-49883725db8f"
      },
      "source": [
        "# load monet and regular images respectively\n",
        "AUTOTUNE = tf.data.experimental.AUTOTUNE\n",
        "monet_ds = load_dataset(MONET_FILENAMES, labeled=True).map(data_augment).repeat().shuffle(42).batch(1).prefetch(AUTOTUNE)\n",
        "photo_ds = load_dataset(PHOTO_FILENAMES, labeled=True).map(data_augment).repeat().shuffle(42).batch(1).prefetch(AUTOTUNE)\n",
        "monet_ds"
      ],
      "execution_count": null,
      "outputs": [
        {
          "output_type": "execute_result",
          "data": {
            "text/plain": [
              "<PrefetchDataset shapes: (None, 256, 256, 3), types: tf.float32>"
            ]
          },
          "metadata": {
            "tags": []
          },
          "execution_count": 14
        }
      ]
    },
    {
      "cell_type": "code",
      "metadata": {
        "id": "sZNJyVFU3ruJ"
      },
      "source": [
        "example_monet = next(iter(monet_ds))\n",
        "example_photo = next(iter(photo_ds))"
      ],
      "execution_count": null,
      "outputs": []
    },
    {
      "cell_type": "code",
      "metadata": {
        "colab": {
          "base_uri": "https://localhost:8080/",
          "height": 233
        },
        "id": "sX4Nd9c2CaOF",
        "outputId": "96cc4933-a0df-481a-ba21-3eaefa4e3730"
      },
      "source": [
        "# print out two example images\n",
        "import matplotlib.pyplot as plt\n",
        "plt.subplot(121)\n",
        "plt.title('Photo')\n",
        "plt.imshow(example_photo[0] * 0.5 + 0.5)\n",
        "\n",
        "plt.subplot(122)\n",
        "plt.title('Monet')\n",
        "plt.imshow(example_monet[0] * 0.5 + 0.5)"
      ],
      "execution_count": null,
      "outputs": [
        {
          "output_type": "execute_result",
          "data": {
            "text/plain": [
              "<matplotlib.image.AxesImage at 0x7f7da023df50>"
            ]
          },
          "metadata": {
            "tags": []
          },
          "execution_count": 16
        },
        {
          "output_type": "display_data",
          "data": {
            "image/png": "[encoded data removed]",
            "text/plain": [
              "<Figure size 432x288 with 2 Axes>"
            ]
          },
          "metadata": {
            "tags": [],
            "needs_background": "light"
          }
        }
      ]
    },
    {
      "cell_type": "code",
      "metadata": {
        "id": "A-A2dYIQCk_e"
      },
      "source": [
        "# define downsample function\n",
        "OUTPUT_CHANNELS = 3\n",
        "\n",
        "def downsample(filters, size, apply_instancenorm=True):\n",
        "    initializer = tf.random_normal_initializer(0., 0.02)\n",
        "    gamma_init = keras.initializers.RandomNormal(mean=0.0, stddev=0.02)\n",
        "\n",
        "    result = keras.Sequential()\n",
        "    result.add(layers.Conv2D(filters, size, strides=2, padding='same',\n",
        "                             kernel_initializer=initializer, use_bias=False))\n",
        "\n",
        "    if apply_instancenorm:\n",
        "        result.add(tfa.layers.InstanceNormalization(gamma_initializer=gamma_init))\n",
        "\n",
        "    result.add(layers.LeakyReLU())\n",
        "\n",
        "    return result"
      ],
      "execution_count": null,
      "outputs": []
    },
    {
      "cell_type": "code",
      "metadata": {
        "id": "85D1DiBJFmPB"
      },
      "source": [
        "# define upsample function\n",
        "def upsample(filters, size, apply_dropout=False):\n",
        "    initializer = tf.random_normal_initializer(0., 0.02)\n",
        "    gamma_init = keras.initializers.RandomNormal(mean=0.0, stddev=0.02)\n",
        "\n",
        "    result = keras.Sequential()\n",
        "    result.add(layers.Conv2DTranspose(filters, size, strides=2,\n",
        "                                      padding='same',\n",
        "                                      kernel_initializer=initializer,\n",
        "                                      use_bias=False))\n",
        "\n",
        "    result.add(tfa.layers.InstanceNormalization(gamma_initializer=gamma_init))\n",
        "\n",
        "    if apply_dropout:\n",
        "        result.add(layers.Dropout(0.5))\n",
        "\n",
        "    result.add(layers.ReLU())\n",
        "\n",
        "    return result"
      ],
      "execution_count": null,
      "outputs": []
    },
    {
      "cell_type": "markdown",
      "metadata": {
        "id": "-eksQPMST9i1"
      },
      "source": [
        "# Discriminator"
      ]
    },
    {
      "cell_type": "code",
      "metadata": {
        "id": "ShbubXpOGKmw"
      },
      "source": [
        "# define discriminator\n",
        "def Discriminator():\n",
        "    initializer = tf.random_normal_initializer(0., 0.02)\n",
        "    gamma_init = keras.initializers.RandomNormal(mean=0.0, stddev=0.02)\n",
        "\n",
        "    inp = layers.Input(shape=[256, 256, 3], name='input_image')\n",
        "\n",
        "    x = inp\n",
        "\n",
        "    down1 = downsample(64, 4, False)(x) # (bs, 128, 128, 64)\n",
        "    down2 = downsample(128, 4)(down1) # (bs, 64, 64, 128)\n",
        "    down3 = downsample(256, 4)(down2) # (bs, 32, 32, 256)\n",
        "    zero_pad1 = layers.ZeroPadding2D()(down3) # (bs, 34, 34, 256)\n",
        "    conv = layers.Conv2D(512, 4, strides=1,\n",
        "                         kernel_initializer=initializer,\n",
        "                         use_bias=False)(zero_pad1) # (bs, 31, 31, 512)\n",
        "\n",
        "    norm1 = tfa.layers.InstanceNormalization(gamma_initializer=gamma_init)(conv)\n",
        "\n",
        "    leaky_relu = layers.LeakyReLU()(norm1)\n",
        "\n",
        "    zero_pad2 = layers.ZeroPadding2D()(leaky_relu) # (bs, 33, 33, 512)\n",
        "\n",
        "    last = layers.Conv2D(1, 4, strides=1,\n",
        "                         kernel_initializer=initializer)(zero_pad2) # (bs, 30, 30, 1)\n",
        "\n",
        "    return tf.keras.Model(inputs=inp, outputs=last)"
      ],
      "execution_count": null,
      "outputs": []
    },
    {
      "cell_type": "markdown",
      "metadata": {
        "id": "zUgMGfueKVv8"
      },
      "source": [
        "# Some utility functions"
      ]
    },
    {
      "cell_type": "code",
      "metadata": {
        "id": "kTaXYbHgKVKO"
      },
      "source": [
        "from keras.engine.topology import Layer\n",
        "import keras.backend as K\n",
        "from keras.layers import InputSpec\n",
        "from keras.models import Sequential, Model\n",
        "from keras.layers import Conv2D, ZeroPadding2D, BatchNormalization, Input, Dropout\n",
        "from keras.layers import Conv2DTranspose, Reshape, Activation, Cropping2D, Flatten\n",
        "from keras.layers import Concatenate\n",
        "from keras.layers.advanced_activations import LeakyReLU\n",
        "from keras.activations import relu\n",
        "from keras.initializers import RandomNormal\n",
        "from keras import backend as k\n",
        "\n",
        "'''\n",
        "*****************************************************************************\n",
        "**************************  ReflectPadding2D   ******************************\n",
        "*****************************************************************************\n",
        "'''\n",
        "class ReflectPadding2D(Layer):\n",
        "    def __init__(self, padding=(1, 1), **kwargs):\n",
        "        self.padding = padding\n",
        "        super(ReflectPadding2D, self).__init__(**kwargs)\n",
        "\n",
        "    def build(self, input_shape):\n",
        "        super(ReflectPadding2D, self).build(input_shape)\n",
        "\n",
        "    def call(self, x, mask=None):\n",
        "        if K.backend() == 'theano':\n",
        "            T = K.theano.tensor\n",
        "            p0, p1 = self.padding[0], self.padding[1]\n",
        "            y = T.zeros((x.shape[0], x.shape[1], x.shape[2]+(2*p0), x.shape[3]+(2*p1)), dtype=K.theano.config.floatX)\n",
        "            y = T.set_subtensor(y[:, :, p0:-p0, p1:-p1], x)\n",
        "            y = T.set_subtensor(y[:, :, :p0, p1:-p1], x[:, :, p0:0:-1, :])\n",
        "            y = T.set_subtensor(y[:, :, -p0:, p1:-p1], x[:, :, -2:-2-p0:-1])\n",
        "            y = T.set_subtensor(y[:, :, p0:-p0, :p1], x[:, :, :, p1:0:-1])\n",
        "            y = T.set_subtensor(y[:, :, p0:-p0, -p1:], x[:, :, :, -2:-2-p1:-1])\n",
        "            y = T.set_subtensor(y[:, :, :p0, :p1], x[:, :, p0:0:-1, p1:0:-1])\n",
        "            y = T.set_subtensor(y[:, :, -p0:, :p1], x[:, :, -2:-2-p0:-1, p1:0:-1])\n",
        "            y = T.set_subtensor(y[:, :, :p0, -p1:], x[:, :, p0:0:-1, -2:-2-p1:-1])\n",
        "            y = T.set_subtensor(y[:, :, -p0:, -p1:], x[:, :, -2:-2-p0:-1, -2:-2-p1:-1])\n",
        "        else:\n",
        "            raise NotImplemented(\"Please complete `CycGAN/layers/padding.py` to run on backend {}.\".format(K.backend()))\n",
        "        return y\n",
        "\n",
        "    def compute_output_shape(self, input_shape):\n",
        "        return (input_shape[0], input_shape[1], input_shape[2]+(2*self.padding[0]), input_shape[3]+(2*self.padding[1]))\n",
        "\n",
        "\n",
        "'''\n",
        "*****************************************************************************\n",
        "**************************  InstanceNormalization  **************************\n",
        "*****************************************************************************\n",
        "'''\n",
        "class InstanceNormalization2D(Layer):\n",
        "    def __init__(self,\n",
        "                 beta_initializer='zeros',\n",
        "                 gamma_initializer='ones',\n",
        "                 epsilon=1e-3,\n",
        "                 **kwargs):\n",
        "        super(InstanceNormalization2D, self).__init__(**kwargs)\n",
        "        if K.image_data_format() is 'channels_first':\n",
        "            self.axis = 1\n",
        "        else: # image channels x.shape[3]\n",
        "            self.axis = 3\n",
        "        print()\n",
        "        self.epsilon = epsilon\n",
        "        self.beta_initializer = beta_initializer\n",
        "        self.gamma_initializer = gamma_initializer\n",
        "\n",
        "    def build(self, input_shape):\n",
        "        self.gamma = self.add_weight(shape=(input_shape[self.axis],),\n",
        "                                     initializer=self.gamma_initializer,\n",
        "                                     trainable=True,\n",
        "                                     name='gamma')\n",
        "        self.beta = self.add_weight(shape=(input_shape[self.axis],),\n",
        "                                    initializer=self.beta_initializer,\n",
        "                                    trainable=True,\n",
        "                                    name='beta')\n",
        "        super(InstanceNormalization2D, self).build(input_shape)\n",
        "\n",
        "    def call(self, x):\n",
        "        # spatial dimensions of input\n",
        "        if K.image_data_format() is 'channels_first':\n",
        "            x_w, x_h = (2, 3)\n",
        "        else:\n",
        "            x_w, x_h = (1, 2)\n",
        "\n",
        "        # Very similar to batchnorm, but normalization over individual inputs.\n",
        "\n",
        "        hw = K.cast(K.shape(x)[x_h]* K.shape(x)[x_w], K.floatx())\n",
        "\n",
        "        # Instance means\n",
        "        mu = K.sum(x, axis=x_w)\n",
        "        mu = K.sum(mu, axis=x_h)\n",
        "        mu = mu / hw\n",
        "        mu = K.reshape(mu, (K.shape(mu)[0], K.shape(mu)[1], 1, 1))\n",
        "\n",
        "        # Instance variences\n",
        "        sig2 = K.square(x - mu)\n",
        "        sig2 = K.sum(sig2, axis=x_w)\n",
        "        sig2 = K.sum(sig2, axis=x_h)\n",
        "        sig2 = K.reshape(sig2, (K.shape(sig2)[0], K.shape(sig2)[1], 1, 1))\n",
        "\n",
        "        # Normalize\n",
        "        y = (x - mu) / K.sqrt(sig2 + self.epsilon)\n",
        "\n",
        "        # Scale and Shift\n",
        "        if K.image_data_format() is 'channels_first':\n",
        "            gamma = K.reshape(self.gamma, (1, K.shape(self.gamma)[0], 1, 1))\n",
        "            beta = K.reshape(self.beta, (1, K.shape(self.beta)[0], 1, 1))\n",
        "        else:\n",
        "            gamma = K.reshape(self.gamma, (1, 1, 1, K.shape(self.gamma)[0]))\n",
        "            beta = K.reshape(self.beta, (1, 1, 1, K.shape(self.beta)[0]))\n",
        "        return gamma * y + beta\n",
        "    \n",
        "'''\n",
        "*****************************************************************************\n",
        "**************************  OTHER util layers   *****************************\n",
        "*****************************************************************************\n",
        "'''\n",
        "conv_init = RandomNormal(0, 0.02) # for convolution kernel\n",
        "gamma_init = RandomNormal(1., 0.02) # for batch normalization\n",
        "\n",
        "def conv2d(f, *a, **k):\n",
        "    return Conv2D(f, kernel_initializer = conv_init, *a, **k)\n",
        "def batchnorm():\n",
        "    return BatchNormalization(momentum=0.9, axis=3, epsilon=1.01e-5, \n",
        "                              gamma_initializer = gamma_init)"
      ],
      "execution_count": null,
      "outputs": []
    },
    {
      "cell_type": "markdown",
      "metadata": {
        "id": "4DHrFL3PUTBc"
      },
      "source": [
        "# Generator"
      ]
    },
    {
      "cell_type": "code",
      "metadata": {
        "id": "0kkAduOA0dGS"
      },
      "source": [
        "from keras.layers import UpSampling2D\n",
        "from keras.layers import add\n",
        "from keras.layers import *\n",
        "\n",
        "\n",
        "'''\n",
        "*****************************************************************************\n",
        "********************************  defineG   *********************************\n",
        "*****************************************************************************\n",
        "'''\n",
        "def Generator(which_model_netG = 'resnet_6blocks', input_shape = (256,256,3), output_shape = (256,256,3), ngf = 150, **kwargs):\n",
        "    output_nc = output_shape[2]\n",
        "    if which_model_netG == 'resnet_6blocks':\n",
        "        return resnet_6blocks(input_shape, output_nc, ngf, **kwargs)\n",
        "    elif which_model_netG == 'unet_128':\n",
        "        return unet_128(input_shape, output_nc, ngf, **kwargs)\n",
        "        \n",
        "\n",
        "'''\n",
        "*****************************************************************************\n",
        "****************************  Generator: Resnet *****************************\n",
        "*****************************************************************************\n",
        "'''\n",
        "padding = ZeroPadding2D # or use ReflectPadding2D\n",
        "\n",
        "def normalize(**kwargs):\n",
        "    #return batchnorm()#axis=get_filter_dim()\n",
        "    return InstanceNormalization2D()\n",
        "\n",
        "\n",
        "def resnet_block(input, dim, ks =(3,3), strides=(1,1)):\n",
        "    x = padding((1,1))(input)\n",
        "    x = Conv2D(dim, ks,strides=strides, kernel_initializer=conv_init)(x)\n",
        "    x = normalize()(x)\n",
        "    x = Activation('relu')(x)\n",
        "\n",
        "    x = padding((1,1))(x)\n",
        "    x = Conv2D(dim, ks,strides=strides, kernel_initializer=conv_init)(x)\n",
        "    x = normalize()(x)\n",
        "    res = add([input, x])\n",
        "    return res\n",
        "\n",
        "\n",
        "def resnet_6blocks(input_shape, output_nc, ngf, **kwargs):\n",
        "    input = Input(input_shape)\n",
        "    x = padding((3,3))(input)\n",
        "    x = Conv2D(ngf, (7,7), kernel_initializer=conv_init)(x)\n",
        "    x = normalize()(x)\n",
        "    x = Activation('relu')(x)\n",
        "\n",
        "    n_downsampling = 2\n",
        "    for i in range(n_downsampling):\n",
        "        mult = 2**i\n",
        "        x = Conv2D(ngf * mult * 2, (3,3),\n",
        "                   padding='same', strides=(2,2),\n",
        "                   kernel_initializer=conv_init)(x)\n",
        "        x = normalize()(x)\n",
        "        x = Activation('relu')(x)\n",
        "\n",
        "\n",
        "    mult = 2**n_downsampling\n",
        "    for i in range(6):\n",
        "        x = resnet_block(x, ngf * mult)\n",
        "\n",
        "    for i in range(n_downsampling):\n",
        "        mult = 2**(n_downsampling - i)\n",
        "        f = int(ngf * mult / 2)\n",
        "        x = Conv2DTranspose(f, (3,3), strides=(2,2),\n",
        "                            padding='same', kernel_initializer=conv_init)(x)\n",
        "        x = normalize()(x)\n",
        "        x = Activation('relu')(x)\n",
        "\n",
        "    x = padding((3,3))(x)\n",
        "    x = Conv2D(output_nc, (7,7), kernel_initializer = conv_init)(x)\n",
        "    x = Activation('tanh')(x)\n",
        "\n",
        "\n",
        "    model = Model(inputs=input, outputs=[x])\n",
        "    print('Model resnet 6blocks:')\n",
        "    model.summary()\n",
        "    return model\n",
        "\n",
        "def unet_128(input_shape, output_nc, ngf=128, fixed_input_size=True, **kwargs):    \n",
        "    isize = input_shape[0]\n",
        "    nc_in = input_shape[2]\n",
        "    nc_out = output_nc\n",
        "    max_nf = 8*ngf    \n",
        "    def block(x, s, nf_in, use_batchnorm=True, nf_out=None, nf_next=None):\n",
        "        # print(\"block\",x,s,nf_in, use_batchnorm, nf_out, nf_next)\n",
        "        assert s>=2 and s%2==0\n",
        "        if nf_next is None:\n",
        "            nf_next = min(nf_in*2, max_nf)\n",
        "        if nf_out is None:\n",
        "            nf_out = nf_in\n",
        "        x = conv2d(nf_next, kernel_size=4, strides=2, use_bias=(not (use_batchnorm and s>2)),\n",
        "                   padding=\"same\", name = 'conv_{0}'.format(s)) (x)\n",
        "        if s>2:\n",
        "            if use_batchnorm:\n",
        "                x = batchnorm()(x, training=1)\n",
        "            x2 = LeakyReLU(alpha=0.2)(x)\n",
        "            x2 = block(x2, s//2, nf_next)\n",
        "            x = Concatenate(axis=3)([x, x2])            \n",
        "        x = Activation(\"relu\")(x)\n",
        "        x = Conv2DTranspose(nf_out, kernel_size=4, strides=2, use_bias=not use_batchnorm,\n",
        "                            kernel_initializer = conv_init,          \n",
        "                            name = 'convt.{0}'.format(s))(x)        \n",
        "        x = Cropping2D(1)(x)\n",
        "        if use_batchnorm:\n",
        "            x = batchnorm()(x, training=1)\n",
        "        return x\n",
        "    \n",
        "    s = isize if fixed_input_size else None\n",
        "    m = inputs = Input(shape=(s, s, nc_in))        \n",
        "    m = block(m, isize, nc_in, False, nf_out=nc_out, nf_next=ngf)\n",
        "    m = Activation('tanh')(m)\n",
        "    \n",
        "    # Model\n",
        "    model = Model(inputs=inputs, outputs=[m])\n",
        "    print('Generator Unet 128:')\n",
        "    model.summary()\n",
        "    return model"
      ],
      "execution_count": null,
      "outputs": []
    },
    {
      "cell_type": "markdown",
      "metadata": {
        "id": "HqVeTs9HUgu3"
      },
      "source": [
        "# Model Configuration"
      ]
    },
    {
      "cell_type": "code",
      "metadata": {
        "colab": {
          "base_uri": "https://localhost:8080/"
        },
        "id": "vuf0_UKwGZ-Z",
        "outputId": "1910ec77-0a52-4ee6-b240-75c724ec7237"
      },
      "source": [
        "# assign generator and discriminator\n",
        "! pip install tensorflow_addons\n",
        "import tensorflow as tf\n",
        "from tensorflow import keras\n",
        "from tensorflow.keras import layers\n",
        "import tensorflow_addons as tfa\n",
        "monet_generator = Generator() # transforms photos to Monet-esque paintings\n",
        "photo_generator = Generator() # transforms Monet paintings to be more like photos\n",
        "\n",
        "monet_discriminator = Discriminator() # differentiates real Monet paintings and generated Monet paintings\n",
        "photo_discriminator = Discriminator() # differentiates real photos and generated photos\n"
      ],
      "execution_count": null,
      "outputs": [
        {
          "output_type": "stream",
          "text": [
            "Requirement already satisfied: tensorflow_addons in /usr/local/lib/python3.7/dist-packages (0.12.1)\n",
            "Requirement already satisfied: typeguard>=2.7 in /usr/local/lib/python3.7/dist-packages (from tensorflow_addons) (2.7.1)\n",
            "\n",
            "\n",
            "\n",
            "\n",
            "\n",
            "\n",
            "\n",
            "\n",
            "\n",
            "\n",
            "\n",
            "\n",
            "\n",
            "\n",
            "\n",
            "\n",
            "\n",
            "Model resnet 6blocks:\n",
            "Model: \"model_14\"\n",
            "__________________________________________________________________________________________________\n",
            "Layer (type)                    Output Shape         Param #     Connected to                     \n",
            "==================================================================================================\n",
            "input_11 (InputLayer)           [(None, 256, 256, 3) 0                                            \n",
            "__________________________________________________________________________________________________\n",
            "zero_padding2d_92 (ZeroPadding2 (None, 262, 262, 3)  0           input_11[0][0]                   \n",
            "__________________________________________________________________________________________________\n",
            "conv2d_126 (Conv2D)             (None, 256, 256, 150 22200       zero_padding2d_92[0][0]          \n",
            "__________________________________________________________________________________________________\n",
            "instance_normalization2d_102 (I (None, 256, 256, 150 300         conv2d_126[0][0]                 \n",
            "__________________________________________________________________________________________________\n",
            "activation_90 (Activation)      (None, 256, 256, 150 0           instance_normalization2d_102[0][0\n",
            "__________________________________________________________________________________________________\n",
            "conv2d_127 (Conv2D)             (None, 128, 128, 300 405300      activation_90[0][0]              \n",
            "__________________________________________________________________________________________________\n",
            "instance_normalization2d_103 (I (None, 128, 128, 300 600         conv2d_127[0][0]                 \n",
            "__________________________________________________________________________________________________\n",
            "activation_91 (Activation)      (None, 128, 128, 300 0           instance_normalization2d_103[0][0\n",
            "__________________________________________________________________________________________________\n",
            "conv2d_128 (Conv2D)             (None, 64, 64, 600)  1620600     activation_91[0][0]              \n",
            "__________________________________________________________________________________________________\n",
            "instance_normalization2d_104 (I (None, 64, 64, 600)  1200        conv2d_128[0][0]                 \n",
            "__________________________________________________________________________________________________\n",
            "activation_92 (Activation)      (None, 64, 64, 600)  0           instance_normalization2d_104[0][0\n",
            "__________________________________________________________________________________________________\n",
            "zero_padding2d_93 (ZeroPadding2 (None, 66, 66, 600)  0           activation_92[0][0]              \n",
            "__________________________________________________________________________________________________\n",
            "conv2d_129 (Conv2D)             (None, 64, 64, 600)  3240600     zero_padding2d_93[0][0]          \n",
            "__________________________________________________________________________________________________\n",
            "instance_normalization2d_105 (I (None, 64, 64, 600)  1200        conv2d_129[0][0]                 \n",
            "__________________________________________________________________________________________________\n",
            "activation_93 (Activation)      (None, 64, 64, 600)  0           instance_normalization2d_105[0][0\n",
            "__________________________________________________________________________________________________\n",
            "zero_padding2d_94 (ZeroPadding2 (None, 66, 66, 600)  0           activation_93[0][0]              \n",
            "__________________________________________________________________________________________________\n",
            "conv2d_130 (Conv2D)             (None, 64, 64, 600)  3240600     zero_padding2d_94[0][0]          \n",
            "__________________________________________________________________________________________________\n",
            "instance_normalization2d_106 (I (None, 64, 64, 600)  1200        conv2d_130[0][0]                 \n",
            "__________________________________________________________________________________________________\n",
            "add_36 (Add)                    (None, 64, 64, 600)  0           activation_92[0][0]              \n",
            "                                                                 instance_normalization2d_106[0][0\n",
            "__________________________________________________________________________________________________\n",
            "zero_padding2d_95 (ZeroPadding2 (None, 66, 66, 600)  0           add_36[0][0]                     \n",
            "__________________________________________________________________________________________________\n",
            "conv2d_131 (Conv2D)             (None, 64, 64, 600)  3240600     zero_padding2d_95[0][0]          \n",
            "__________________________________________________________________________________________________\n",
            "instance_normalization2d_107 (I (None, 64, 64, 600)  1200        conv2d_131[0][0]                 \n",
            "__________________________________________________________________________________________________\n",
            "activation_94 (Activation)      (None, 64, 64, 600)  0           instance_normalization2d_107[0][0\n",
            "__________________________________________________________________________________________________\n",
            "zero_padding2d_96 (ZeroPadding2 (None, 66, 66, 600)  0           activation_94[0][0]              \n",
            "__________________________________________________________________________________________________\n",
            "conv2d_132 (Conv2D)             (None, 64, 64, 600)  3240600     zero_padding2d_96[0][0]          \n",
            "__________________________________________________________________________________________________\n",
            "instance_normalization2d_108 (I (None, 64, 64, 600)  1200        conv2d_132[0][0]                 \n",
            "__________________________________________________________________________________________________\n",
            "add_37 (Add)                    (None, 64, 64, 600)  0           add_36[0][0]                     \n",
            "                                                                 instance_normalization2d_108[0][0\n",
            "__________________________________________________________________________________________________\n",
            "zero_padding2d_97 (ZeroPadding2 (None, 66, 66, 600)  0           add_37[0][0]                     \n",
            "__________________________________________________________________________________________________\n",
            "conv2d_133 (Conv2D)             (None, 64, 64, 600)  3240600     zero_padding2d_97[0][0]          \n",
            "__________________________________________________________________________________________________\n",
            "instance_normalization2d_109 (I (None, 64, 64, 600)  1200        conv2d_133[0][0]                 \n",
            "__________________________________________________________________________________________________\n",
            "activation_95 (Activation)      (None, 64, 64, 600)  0           instance_normalization2d_109[0][0\n",
            "__________________________________________________________________________________________________\n",
            "zero_padding2d_98 (ZeroPadding2 (None, 66, 66, 600)  0           activation_95[0][0]              \n",
            "__________________________________________________________________________________________________\n",
            "conv2d_134 (Conv2D)             (None, 64, 64, 600)  3240600     zero_padding2d_98[0][0]          \n",
            "__________________________________________________________________________________________________\n",
            "instance_normalization2d_110 (I (None, 64, 64, 600)  1200        conv2d_134[0][0]                 \n",
            "__________________________________________________________________________________________________\n",
            "add_38 (Add)                    (None, 64, 64, 600)  0           add_37[0][0]                     \n",
            "                                                                 instance_normalization2d_110[0][0\n",
            "__________________________________________________________________________________________________\n",
            "zero_padding2d_99 (ZeroPadding2 (None, 66, 66, 600)  0           add_38[0][0]                     \n",
            "__________________________________________________________________________________________________\n",
            "conv2d_135 (Conv2D)             (None, 64, 64, 600)  3240600     zero_padding2d_99[0][0]          \n",
            "__________________________________________________________________________________________________\n",
            "instance_normalization2d_111 (I (None, 64, 64, 600)  1200        conv2d_135[0][0]                 \n",
            "__________________________________________________________________________________________________\n",
            "activation_96 (Activation)      (None, 64, 64, 600)  0           instance_normalization2d_111[0][0\n",
            "__________________________________________________________________________________________________\n",
            "zero_padding2d_100 (ZeroPadding (None, 66, 66, 600)  0           activation_96[0][0]              \n",
            "__________________________________________________________________________________________________\n",
            "conv2d_136 (Conv2D)             (None, 64, 64, 600)  3240600     zero_padding2d_100[0][0]         \n",
            "__________________________________________________________________________________________________\n",
            "instance_normalization2d_112 (I (None, 64, 64, 600)  1200        conv2d_136[0][0]                 \n",
            "__________________________________________________________________________________________________\n",
            "add_39 (Add)                    (None, 64, 64, 600)  0           add_38[0][0]                     \n",
            "                                                                 instance_normalization2d_112[0][0\n",
            "__________________________________________________________________________________________________\n",
            "zero_padding2d_101 (ZeroPadding (None, 66, 66, 600)  0           add_39[0][0]                     \n",
            "__________________________________________________________________________________________________\n",
            "conv2d_137 (Conv2D)             (None, 64, 64, 600)  3240600     zero_padding2d_101[0][0]         \n",
            "__________________________________________________________________________________________________\n",
            "instance_normalization2d_113 (I (None, 64, 64, 600)  1200        conv2d_137[0][0]                 \n",
            "__________________________________________________________________________________________________\n",
            "activation_97 (Activation)      (None, 64, 64, 600)  0           instance_normalization2d_113[0][0\n",
            "__________________________________________________________________________________________________\n",
            "zero_padding2d_102 (ZeroPadding (None, 66, 66, 600)  0           activation_97[0][0]              \n",
            "__________________________________________________________________________________________________\n",
            "conv2d_138 (Conv2D)             (None, 64, 64, 600)  3240600     zero_padding2d_102[0][0]         \n",
            "__________________________________________________________________________________________________\n",
            "instance_normalization2d_114 (I (None, 64, 64, 600)  1200        conv2d_138[0][0]                 \n",
            "__________________________________________________________________________________________________\n",
            "add_40 (Add)                    (None, 64, 64, 600)  0           add_39[0][0]                     \n",
            "                                                                 instance_normalization2d_114[0][0\n",
            "__________________________________________________________________________________________________\n",
            "zero_padding2d_103 (ZeroPadding (None, 66, 66, 600)  0           add_40[0][0]                     \n",
            "__________________________________________________________________________________________________\n",
            "conv2d_139 (Conv2D)             (None, 64, 64, 600)  3240600     zero_padding2d_103[0][0]         \n",
            "__________________________________________________________________________________________________\n",
            "instance_normalization2d_115 (I (None, 64, 64, 600)  1200        conv2d_139[0][0]                 \n",
            "__________________________________________________________________________________________________\n",
            "activation_98 (Activation)      (None, 64, 64, 600)  0           instance_normalization2d_115[0][0\n",
            "__________________________________________________________________________________________________\n",
            "zero_padding2d_104 (ZeroPadding (None, 66, 66, 600)  0           activation_98[0][0]              \n",
            "__________________________________________________________________________________________________\n",
            "conv2d_140 (Conv2D)             (None, 64, 64, 600)  3240600     zero_padding2d_104[0][0]         \n",
            "__________________________________________________________________________________________________\n",
            "instance_normalization2d_116 (I (None, 64, 64, 600)  1200        conv2d_140[0][0]                 \n",
            "__________________________________________________________________________________________________\n",
            "add_41 (Add)                    (None, 64, 64, 600)  0           add_40[0][0]                     \n",
            "                                                                 instance_normalization2d_116[0][0\n",
            "__________________________________________________________________________________________________\n",
            "conv2d_transpose_12 (Conv2DTran (None, 128, 128, 300 1620300     add_41[0][0]                     \n",
            "__________________________________________________________________________________________________\n",
            "instance_normalization2d_117 (I (None, 128, 128, 300 600         conv2d_transpose_12[0][0]        \n",
            "__________________________________________________________________________________________________\n",
            "activation_99 (Activation)      (None, 128, 128, 300 0           instance_normalization2d_117[0][0\n",
            "__________________________________________________________________________________________________\n",
            "conv2d_transpose_13 (Conv2DTran (None, 256, 256, 150 405150      activation_99[0][0]              \n",
            "__________________________________________________________________________________________________\n",
            "instance_normalization2d_118 (I (None, 256, 256, 150 300         conv2d_transpose_13[0][0]        \n",
            "__________________________________________________________________________________________________\n",
            "activation_100 (Activation)     (None, 256, 256, 150 0           instance_normalization2d_118[0][0\n",
            "__________________________________________________________________________________________________\n",
            "zero_padding2d_105 (ZeroPadding (None, 262, 262, 150 0           activation_100[0][0]             \n",
            "__________________________________________________________________________________________________\n",
            "conv2d_141 (Conv2D)             (None, 256, 256, 3)  22053       zero_padding2d_105[0][0]         \n",
            "__________________________________________________________________________________________________\n",
            "activation_101 (Activation)     (None, 256, 256, 3)  0           conv2d_141[0][0]                 \n",
            "==================================================================================================\n",
            "Total params: 43,000,203\n",
            "Trainable params: 43,000,203\n",
            "Non-trainable params: 0\n",
            "__________________________________________________________________________________________________\n",
            "\n",
            "\n",
            "\n",
            "\n",
            "\n",
            "\n",
            "\n",
            "\n",
            "\n",
            "\n",
            "\n",
            "\n",
            "\n",
            "\n",
            "\n",
            "\n",
            "\n",
            "Model resnet 6blocks:\n",
            "Model: \"model_15\"\n",
            "__________________________________________________________________________________________________\n",
            "Layer (type)                    Output Shape         Param #     Connected to                     \n",
            "==================================================================================================\n",
            "input_12 (InputLayer)           [(None, 256, 256, 3) 0                                            \n",
            "__________________________________________________________________________________________________\n",
            "zero_padding2d_106 (ZeroPadding (None, 262, 262, 3)  0           input_12[0][0]                   \n",
            "__________________________________________________________________________________________________\n",
            "conv2d_142 (Conv2D)             (None, 256, 256, 150 22200       zero_padding2d_106[0][0]         \n",
            "__________________________________________________________________________________________________\n",
            "instance_normalization2d_119 (I (None, 256, 256, 150 300         conv2d_142[0][0]                 \n",
            "__________________________________________________________________________________________________\n",
            "activation_102 (Activation)     (None, 256, 256, 150 0           instance_normalization2d_119[0][0\n",
            "__________________________________________________________________________________________________\n",
            "conv2d_143 (Conv2D)             (None, 128, 128, 300 405300      activation_102[0][0]             \n",
            "__________________________________________________________________________________________________\n",
            "instance_normalization2d_120 (I (None, 128, 128, 300 600         conv2d_143[0][0]                 \n",
            "__________________________________________________________________________________________________\n",
            "activation_103 (Activation)     (None, 128, 128, 300 0           instance_normalization2d_120[0][0\n",
            "__________________________________________________________________________________________________\n",
            "conv2d_144 (Conv2D)             (None, 64, 64, 600)  1620600     activation_103[0][0]             \n",
            "__________________________________________________________________________________________________\n",
            "instance_normalization2d_121 (I (None, 64, 64, 600)  1200        conv2d_144[0][0]                 \n",
            "__________________________________________________________________________________________________\n",
            "activation_104 (Activation)     (None, 64, 64, 600)  0           instance_normalization2d_121[0][0\n",
            "__________________________________________________________________________________________________\n",
            "zero_padding2d_107 (ZeroPadding (None, 66, 66, 600)  0           activation_104[0][0]             \n",
            "__________________________________________________________________________________________________\n",
            "conv2d_145 (Conv2D)             (None, 64, 64, 600)  3240600     zero_padding2d_107[0][0]         \n",
            "__________________________________________________________________________________________________\n",
            "instance_normalization2d_122 (I (None, 64, 64, 600)  1200        conv2d_145[0][0]                 \n",
            "__________________________________________________________________________________________________\n",
            "activation_105 (Activation)     (None, 64, 64, 600)  0           instance_normalization2d_122[0][0\n",
            "__________________________________________________________________________________________________\n",
            "zero_padding2d_108 (ZeroPadding (None, 66, 66, 600)  0           activation_105[0][0]             \n",
            "__________________________________________________________________________________________________\n",
            "conv2d_146 (Conv2D)             (None, 64, 64, 600)  3240600     zero_padding2d_108[0][0]         \n",
            "__________________________________________________________________________________________________\n",
            "instance_normalization2d_123 (I (None, 64, 64, 600)  1200        conv2d_146[0][0]                 \n",
            "__________________________________________________________________________________________________\n",
            "add_42 (Add)                    (None, 64, 64, 600)  0           activation_104[0][0]             \n",
            "                                                                 instance_normalization2d_123[0][0\n",
            "__________________________________________________________________________________________________\n",
            "zero_padding2d_109 (ZeroPadding (None, 66, 66, 600)  0           add_42[0][0]                     \n",
            "__________________________________________________________________________________________________\n",
            "conv2d_147 (Conv2D)             (None, 64, 64, 600)  3240600     zero_padding2d_109[0][0]         \n",
            "__________________________________________________________________________________________________\n",
            "instance_normalization2d_124 (I (None, 64, 64, 600)  1200        conv2d_147[0][0]                 \n",
            "__________________________________________________________________________________________________\n",
            "activation_106 (Activation)     (None, 64, 64, 600)  0           instance_normalization2d_124[0][0\n",
            "__________________________________________________________________________________________________\n",
            "zero_padding2d_110 (ZeroPadding (None, 66, 66, 600)  0           activation_106[0][0]             \n",
            "__________________________________________________________________________________________________\n",
            "conv2d_148 (Conv2D)             (None, 64, 64, 600)  3240600     zero_padding2d_110[0][0]         \n",
            "__________________________________________________________________________________________________\n",
            "instance_normalization2d_125 (I (None, 64, 64, 600)  1200        conv2d_148[0][0]                 \n",
            "__________________________________________________________________________________________________\n",
            "add_43 (Add)                    (None, 64, 64, 600)  0           add_42[0][0]                     \n",
            "                                                                 instance_normalization2d_125[0][0\n",
            "__________________________________________________________________________________________________\n",
            "zero_padding2d_111 (ZeroPadding (None, 66, 66, 600)  0           add_43[0][0]                     \n",
            "__________________________________________________________________________________________________\n",
            "conv2d_149 (Conv2D)             (None, 64, 64, 600)  3240600     zero_padding2d_111[0][0]         \n",
            "__________________________________________________________________________________________________\n",
            "instance_normalization2d_126 (I (None, 64, 64, 600)  1200        conv2d_149[0][0]                 \n",
            "__________________________________________________________________________________________________\n",
            "activation_107 (Activation)     (None, 64, 64, 600)  0           instance_normalization2d_126[0][0\n",
            "__________________________________________________________________________________________________\n",
            "zero_padding2d_112 (ZeroPadding (None, 66, 66, 600)  0           activation_107[0][0]             \n",
            "__________________________________________________________________________________________________\n",
            "conv2d_150 (Conv2D)             (None, 64, 64, 600)  3240600     zero_padding2d_112[0][0]         \n",
            "__________________________________________________________________________________________________\n",
            "instance_normalization2d_127 (I (None, 64, 64, 600)  1200        conv2d_150[0][0]                 \n",
            "__________________________________________________________________________________________________\n",
            "add_44 (Add)                    (None, 64, 64, 600)  0           add_43[0][0]                     \n",
            "                                                                 instance_normalization2d_127[0][0\n",
            "__________________________________________________________________________________________________\n",
            "zero_padding2d_113 (ZeroPadding (None, 66, 66, 600)  0           add_44[0][0]                     \n",
            "__________________________________________________________________________________________________\n",
            "conv2d_151 (Conv2D)             (None, 64, 64, 600)  3240600     zero_padding2d_113[0][0]         \n",
            "__________________________________________________________________________________________________\n",
            "instance_normalization2d_128 (I (None, 64, 64, 600)  1200        conv2d_151[0][0]                 \n",
            "__________________________________________________________________________________________________\n",
            "activation_108 (Activation)     (None, 64, 64, 600)  0           instance_normalization2d_128[0][0\n",
            "__________________________________________________________________________________________________\n",
            "zero_padding2d_114 (ZeroPadding (None, 66, 66, 600)  0           activation_108[0][0]             \n",
            "__________________________________________________________________________________________________\n",
            "conv2d_152 (Conv2D)             (None, 64, 64, 600)  3240600     zero_padding2d_114[0][0]         \n",
            "__________________________________________________________________________________________________\n",
            "instance_normalization2d_129 (I (None, 64, 64, 600)  1200        conv2d_152[0][0]                 \n",
            "__________________________________________________________________________________________________\n",
            "add_45 (Add)                    (None, 64, 64, 600)  0           add_44[0][0]                     \n",
            "                                                                 instance_normalization2d_129[0][0\n",
            "__________________________________________________________________________________________________\n",
            "zero_padding2d_115 (ZeroPadding (None, 66, 66, 600)  0           add_45[0][0]                     \n",
            "__________________________________________________________________________________________________\n",
            "conv2d_153 (Conv2D)             (None, 64, 64, 600)  3240600     zero_padding2d_115[0][0]         \n",
            "__________________________________________________________________________________________________\n",
            "instance_normalization2d_130 (I (None, 64, 64, 600)  1200        conv2d_153[0][0]                 \n",
            "__________________________________________________________________________________________________\n",
            "activation_109 (Activation)     (None, 64, 64, 600)  0           instance_normalization2d_130[0][0\n",
            "__________________________________________________________________________________________________\n",
            "zero_padding2d_116 (ZeroPadding (None, 66, 66, 600)  0           activation_109[0][0]             \n",
            "__________________________________________________________________________________________________\n",
            "conv2d_154 (Conv2D)             (None, 64, 64, 600)  3240600     zero_padding2d_116[0][0]         \n",
            "__________________________________________________________________________________________________\n",
            "instance_normalization2d_131 (I (None, 64, 64, 600)  1200        conv2d_154[0][0]                 \n",
            "__________________________________________________________________________________________________\n",
            "add_46 (Add)                    (None, 64, 64, 600)  0           add_45[0][0]                     \n",
            "                                                                 instance_normalization2d_131[0][0\n",
            "__________________________________________________________________________________________________\n",
            "zero_padding2d_117 (ZeroPadding (None, 66, 66, 600)  0           add_46[0][0]                     \n",
            "__________________________________________________________________________________________________\n",
            "conv2d_155 (Conv2D)             (None, 64, 64, 600)  3240600     zero_padding2d_117[0][0]         \n",
            "__________________________________________________________________________________________________\n",
            "instance_normalization2d_132 (I (None, 64, 64, 600)  1200        conv2d_155[0][0]                 \n",
            "__________________________________________________________________________________________________\n",
            "activation_110 (Activation)     (None, 64, 64, 600)  0           instance_normalization2d_132[0][0\n",
            "__________________________________________________________________________________________________\n",
            "zero_padding2d_118 (ZeroPadding (None, 66, 66, 600)  0           activation_110[0][0]             \n",
            "__________________________________________________________________________________________________\n",
            "conv2d_156 (Conv2D)             (None, 64, 64, 600)  3240600     zero_padding2d_118[0][0]         \n",
            "__________________________________________________________________________________________________\n",
            "instance_normalization2d_133 (I (None, 64, 64, 600)  1200        conv2d_156[0][0]                 \n",
            "__________________________________________________________________________________________________\n",
            "add_47 (Add)                    (None, 64, 64, 600)  0           add_46[0][0]                     \n",
            "                                                                 instance_normalization2d_133[0][0\n",
            "__________________________________________________________________________________________________\n",
            "conv2d_transpose_14 (Conv2DTran (None, 128, 128, 300 1620300     add_47[0][0]                     \n",
            "__________________________________________________________________________________________________\n",
            "instance_normalization2d_134 (I (None, 128, 128, 300 600         conv2d_transpose_14[0][0]        \n",
            "__________________________________________________________________________________________________\n",
            "activation_111 (Activation)     (None, 128, 128, 300 0           instance_normalization2d_134[0][0\n",
            "__________________________________________________________________________________________________\n",
            "conv2d_transpose_15 (Conv2DTran (None, 256, 256, 150 405150      activation_111[0][0]             \n",
            "__________________________________________________________________________________________________\n",
            "instance_normalization2d_135 (I (None, 256, 256, 150 300         conv2d_transpose_15[0][0]        \n",
            "__________________________________________________________________________________________________\n",
            "activation_112 (Activation)     (None, 256, 256, 150 0           instance_normalization2d_135[0][0\n",
            "__________________________________________________________________________________________________\n",
            "zero_padding2d_119 (ZeroPadding (None, 262, 262, 150 0           activation_112[0][0]             \n",
            "__________________________________________________________________________________________________\n",
            "conv2d_157 (Conv2D)             (None, 256, 256, 3)  22053       zero_padding2d_119[0][0]         \n",
            "__________________________________________________________________________________________________\n",
            "activation_113 (Activation)     (None, 256, 256, 3)  0           conv2d_157[0][0]                 \n",
            "==================================================================================================\n",
            "Total params: 43,000,203\n",
            "Trainable params: 43,000,203\n",
            "Non-trainable params: 0\n",
            "__________________________________________________________________________________________________\n"
          ],
          "name": "stdout"
        }
      ]
    },
    {
      "cell_type": "code",
      "metadata": {
        "colab": {
          "base_uri": "https://localhost:8080/",
          "height": 216
        },
        "id": "lDCM7qhjG3Jb",
        "outputId": "beb91004-fea0-42f1-e824-f71220b80580"
      },
      "source": [
        "to_monet = monet_generator(example_photo)\n",
        "plt.subplot(1, 2, 1)\n",
        "plt.title(\"Original Photo\")\n",
        "plt.imshow(example_photo[0] * 0.5 + 0.5)\n",
        "\n",
        "plt.subplot(1, 2, 2)\n",
        "plt.title(\"Monet-esque Photo\")\n",
        "plt.imshow(to_monet[0] * 0.5 + 0.5)\n",
        "plt.show()\n"
      ],
      "execution_count": null,
      "outputs": [
        {
          "output_type": "display_data",
          "data": {
            "image/png": "[encoded data removed]",
            "text/plain": [
              "<Figure size 432x288 with 2 Axes>"
            ]
          },
          "metadata": {
            "tags": [],
            "needs_background": "light"
          }
        }
      ]
    },
    {
      "cell_type": "code",
      "metadata": {
        "id": "qNbtXIZDHCRm"
      },
      "source": [
        "# define cyclegan class\n",
        "class CycleGan(keras.Model):\n",
        "    def __init__(\n",
        "        self,\n",
        "        monet_generator,\n",
        "        photo_generator,\n",
        "        monet_discriminator,\n",
        "        photo_discriminator,\n",
        "        lambda_cycle=10,\n",
        "    ):\n",
        "        super(CycleGan, self).__init__()\n",
        "        self.m_gen = monet_generator\n",
        "        self.p_gen = photo_generator\n",
        "        self.m_disc = monet_discriminator\n",
        "        self.p_disc = photo_discriminator\n",
        "        self.lambda_cycle = lambda_cycle\n",
        "    def compile(\n",
        "        self,\n",
        "        m_gen_optimizer,\n",
        "        p_gen_optimizer,\n",
        "        m_disc_optimizer,\n",
        "        p_disc_optimizer,\n",
        "        gen_loss_fn,\n",
        "        disc_loss_fn,\n",
        "        cycle_loss_fn,\n",
        "        identity_loss_fn\n",
        "    ):\n",
        "        super(CycleGan, self).compile()\n",
        "        self.m_gen_optimizer = m_gen_optimizer\n",
        "        self.p_gen_optimizer = p_gen_optimizer\n",
        "        self.m_disc_optimizer = m_disc_optimizer\n",
        "        self.p_disc_optimizer = p_disc_optimizer\n",
        "        self.gen_loss_fn = gen_loss_fn\n",
        "        self.disc_loss_fn = disc_loss_fn\n",
        "        self.cycle_loss_fn = cycle_loss_fn\n",
        "        self.identity_loss_fn = identity_loss_fn\n",
        "    \n",
        "    def train_step(self, batch_data):\n",
        "        real_monet, real_photo = batch_data\n",
        "        \n",
        "        with tf.GradientTape(persistent=True) as tape:\n",
        "            # photo to monet back to photo\n",
        "            fake_monet = self.m_gen(real_photo, training=True)\n",
        "            cycled_photo = self.p_gen(fake_monet, training=True)\n",
        "\n",
        "            # monet to photo back to monet\n",
        "            fake_photo = self.p_gen(real_monet, training=True)\n",
        "            cycled_monet = self.m_gen(fake_photo, training=True)\n",
        "\n",
        "            # generating itself\n",
        "            same_monet = self.m_gen(real_monet, training=True)\n",
        "            same_photo = self.p_gen(real_photo, training=True)\n",
        "     # discriminator used to check, inputing real images\n",
        "            disc_real_monet = self.m_disc(real_monet, training=True)\n",
        "            disc_real_photo = self.p_disc(real_photo, training=True)\n",
        "\n",
        "            # discriminator used to check, inputing fake images\n",
        "            disc_fake_monet = self.m_disc(fake_monet, training=True)\n",
        "            disc_fake_photo = self.p_disc(fake_photo, training=True)\n",
        "\n",
        "            # evaluates generator loss\n",
        "            monet_gen_loss = self.gen_loss_fn(disc_fake_monet)\n",
        "            photo_gen_loss = self.gen_loss_fn(disc_fake_photo)\n",
        "\n",
        "            # evaluates total cycle consistency loss\n",
        "            total_cycle_loss = self.cycle_loss_fn(real_monet, cycled_monet, self.lambda_cycle) + self.cycle_loss_fn(real_photo, cycled_photo, self.lambda_cycle)\n",
        "             # evaluates total generator loss\n",
        "            total_monet_gen_loss = monet_gen_loss + total_cycle_loss + self.identity_loss_fn(real_monet, same_monet, self.lambda_cycle)\n",
        "            total_photo_gen_loss = photo_gen_loss + total_cycle_loss + self.identity_loss_fn(real_photo, same_photo, self.lambda_cycle)\n",
        "\n",
        "            # evaluates discriminator loss\n",
        "            monet_disc_loss = self.disc_loss_fn(disc_real_monet, disc_fake_monet)\n",
        "            photo_disc_loss = self.disc_loss_fn(disc_real_photo, disc_fake_photo)\n",
        "\n",
        "        # Calculate the gradients for generator and discriminator\n",
        "        monet_generator_gradients = tape.gradient(total_monet_gen_loss,\n",
        "                                                  self.m_gen.trainable_variables)\n",
        "        photo_generator_gradients = tape.gradient(total_photo_gen_loss,\n",
        "                                                  self.p_gen.trainable_variables)\n",
        "        \n",
        "        monet_discriminator_gradients = tape.gradient(monet_disc_loss,\n",
        "                                                      self.m_disc.trainable_variables)\n",
        "        photo_discriminator_gradients = tape.gradient(photo_disc_loss,\n",
        "                                                      self.p_disc.trainable_variables)\n",
        "\n",
        "        # Apply the gradients to the optimizer\n",
        "        self.m_gen_optimizer.apply_gradients(zip(monet_generator_gradients,\n",
        "                                                 self.m_gen.trainable_variables))\n",
        "\n",
        "        self.p_gen_optimizer.apply_gradients(zip(photo_generator_gradients,\n",
        "                                                 self.p_gen.trainable_variables))\n",
        "        \n",
        "        self.m_disc_optimizer.apply_gradients(zip(monet_discriminator_gradients,\n",
        "                                                  self.m_disc.trainable_variables))\n",
        "\n",
        "        self.p_disc_optimizer.apply_gradients(zip(photo_discriminator_gradients,\n",
        "                                                  self.p_disc.trainable_variables))\n",
        "        \n",
        "        return {\n",
        "            \"monet_gen_loss\": total_monet_gen_loss,\n",
        "            \"photo_gen_loss\": total_photo_gen_loss,\n",
        "            \"monet_disc_loss\": monet_disc_loss,\n",
        "            \"photo_disc_loss\": photo_disc_loss\n",
        "        }\n",
        "        \n",
        "\n"
      ],
      "execution_count": null,
      "outputs": []
    },
    {
      "cell_type": "code",
      "metadata": {
        "id": "K9NnlNIQICeD"
      },
      "source": [
        "# define discriminator loss\n",
        "def discriminator_loss(real, generated):\n",
        "      real_loss = tf.keras.losses.BinaryCrossentropy(from_logits=True, reduction=tf.keras.losses.Reduction.NONE)(tf.ones_like(real), real)\n",
        "\n",
        "      generated_loss = tf.keras.losses.BinaryCrossentropy(from_logits=True, reduction=tf.keras.losses.Reduction.NONE)(tf.zeros_like(generated), generated)\n",
        "\n",
        "      total_disc_loss = real_loss + generated_loss\n",
        "\n",
        "      return total_disc_loss * 0.5"
      ],
      "execution_count": null,
      "outputs": []
    },
    {
      "cell_type": "code",
      "metadata": {
        "id": "1cP0UWX0II6a"
      },
      "source": [
        " # define generator loss\n",
        " def generator_loss(generated):\n",
        "        return tf.keras.losses.BinaryCrossentropy(from_logits=True, reduction=tf.keras.losses.Reduction.NONE)(tf.ones_like(generated), generated)"
      ],
      "execution_count": null,
      "outputs": []
    },
    {
      "cell_type": "code",
      "metadata": {
        "id": "qSUJgTixIQl9"
      },
      "source": [
        "# define cycle loss\n",
        "def calc_cycle_loss(real_image, cycled_image, LAMBDA):\n",
        "        loss1 = tf.reduce_mean(tf.abs(real_image - cycled_image))\n",
        "\n",
        "        return LAMBDA * loss1"
      ],
      "execution_count": null,
      "outputs": []
    },
    {
      "cell_type": "code",
      "metadata": {
        "id": "0HxPLemfIRHc"
      },
      "source": [
        " # define identity loss\n",
        " def identity_loss(real_image, same_image, LAMBDA):\n",
        "        loss = tf.reduce_mean(tf.abs(real_image - same_image))\n",
        "        return LAMBDA * 0.5 * loss"
      ],
      "execution_count": null,
      "outputs": []
    },
    {
      "cell_type": "code",
      "metadata": {
        "id": "GlLULVm_ITZY"
      },
      "source": [
        "# define optimizer\n",
        "monet_generator_optimizer = tf.keras.optimizers.Adam(2e-4, beta_1=0.5)\n",
        "photo_generator_optimizer = tf.keras.optimizers.Adam(2e-4, beta_1=0.5)\n",
        "\n",
        "monet_discriminator_optimizer = tf.keras.optimizers.Adam(2e-4, beta_1=0.5)\n",
        "photo_discriminator_optimizer = tf.keras.optimizers.Adam(2e-4, beta_1=0.5)"
      ],
      "execution_count": null,
      "outputs": []
    },
    {
      "cell_type": "code",
      "metadata": {
        "id": "WGzbxxkZIY2d"
      },
      "source": [
        "# configure the model\n",
        "cycle_gan_model = CycleGan(\n",
        "        monet_generator, photo_generator, monet_discriminator, photo_discriminator\n",
        "    )\n",
        "\n",
        "cycle_gan_model.compile(\n",
        "        m_gen_optimizer = monet_generator_optimizer,\n",
        "        p_gen_optimizer = photo_generator_optimizer,\n",
        "        m_disc_optimizer = monet_discriminator_optimizer,\n",
        "        p_disc_optimizer = photo_discriminator_optimizer,\n",
        "        gen_loss_fn = generator_loss,\n",
        "        disc_loss_fn = discriminator_loss,\n",
        "        cycle_loss_fn = calc_cycle_loss,\n",
        "        identity_loss_fn = identity_loss\n",
        "    )\n"
      ],
      "execution_count": null,
      "outputs": []
    },
    {
      "cell_type": "code",
      "metadata": {
        "id": "TTC31bZjMb5O"
      },
      "source": [
        "# define a learning rate scheduler\n",
        "import tensorflow.keras.backend as K\n",
        "\n",
        "class LR_sceduler(tf.keras.callbacks.Callback):\n",
        "\n",
        "    def on_epoch_end(self, epoch, logs=None):\n",
        "        if epoch < 100:\n",
        "            pass\n",
        "        else:\n",
        "            lr_monet_G = monet_generator_optimizer.learning_rate.numpy()\n",
        "            K.set_value(monet_generator_optimizer.learning_rate, lr_monet_G * tf.math.exp(-0.1))\n",
        "\n",
        "            lr_monet_D = monet_discriminator_optimizer.learning_rate.numpy()\n",
        "            K.set_value(monet_discriminator_optimizer.learning_rate, lr_monet_D * tf.math.exp(-0.1))\n",
        "            lr_photo_G = photo_generator_optimizer.learning_rate.numpy()\n",
        "            K.set_value(photo_generator_optimizer.learning_rate, lr_photo_G * tf.math.exp(-0.1))\n",
        "\n",
        "            lr_photo_D = photo_discriminator_optimizer.learning_rate.numpy()\n",
        "            K.set_value(photo_discriminator_optimizer.learning_rate, lr_photo_D * tf.math.exp(-0.1))\n",
        "lr_callback = LR_sceduler()"
      ],
      "execution_count": null,
      "outputs": []
    },
    {
      "cell_type": "markdown",
      "metadata": {
        "id": "wWvZyTXoU585"
      },
      "source": [
        "# Model Fitting"
      ]
    },
    {
      "cell_type": "code",
      "metadata": {
        "id": "JhMfRpLSIh6r"
      },
      "source": [
        "# model fitting\n",
        "with tf.device('/device:GPU:0'):\n",
        "  cycle_gan_model.fit(\n",
        "    tf.data.Dataset.zip((monet_ds, photo_ds)),\n",
        "    epochs=10,\n",
        "steps_per_epoch = 7350,callbacks=[lr_callback]\n",
        "  )"
      ],
      "execution_count": null,
      "outputs": []
    },
    {
      "cell_type": "code",
      "metadata": {
        "id": "Dy9kIUNYJNc7"
      },
      "source": [
        "# show examples of before and after monet style transfer\n",
        "import numpy as np\n",
        "_, ax = plt.subplots(5, 2, figsize=(12, 12))\n",
        "for i, img in enumerate(photo_ds.take(5)):\n",
        "    prediction = monet_generator(img, training=False)[0].numpy()\n",
        "    prediction = (prediction * 127.5 + 127.5).astype(np.uint8)\n",
        "    img = (img[0] * 127.5 + 127.5).numpy().astype(np.uint8)\n",
        "\n",
        "    ax[i, 0].imshow(img)\n",
        "    ax[i, 1].imshow(prediction)\n",
        "    ax[i, 0].set_title(\"Input Photo\")\n",
        "    ax[i, 1].set_title(\"Monet-esque\")\n",
        "    ax[i, 0].axis(\"off\")\n",
        "    ax[i, 1].axis(\"off\")\n",
        "plt.show()"
      ],
      "execution_count": null,
      "outputs": []
    },
    {
      "cell_type": "code",
      "metadata": {
        "id": "Ka4UbphvmM7S",
        "colab": {
          "base_uri": "https://localhost:8080/"
        },
        "outputId": "e6547c96-c465-4a37-f52f-0673b10a9958"
      },
      "source": [
        "# make download directory\n",
        "import PIL\n",
        "import numpy as np\n",
        "! mkdir ../images"
      ],
      "execution_count": null,
      "outputs": [
        {
          "output_type": "stream",
          "text": [
            "mkdir: cannot create directory ‘../images’: File exists\n"
          ],
          "name": "stdout"
        }
      ]
    },
    {
      "cell_type": "markdown",
      "metadata": {
        "id": "uT15baZ8VMCx"
      },
      "source": [
        "# Output Prediction Result"
      ]
    },
    {
      "cell_type": "code",
      "metadata": {
        "id": "uT60NKmNmRvD"
      },
      "source": [
        "photo_ds_test = load_dataset(PHOTO_FILENAMES, labeled=True).batch(1).cache().prefetch(AUTOTUNE)\n",
        "\n",
        "i = 0\n",
        "for img in photo_ds_test:\n",
        "    predictions = monet_generator(img, training=False)\n",
        "    for j in range(7028):\n",
        "        prediction = predictions[j].numpy()\n",
        "        prediction = (prediction * 127.5 + 127.5).astype(np.uint8)\n",
        "        im = PIL.Image.fromarray(prediction)\n",
        "        original_img = PIL.Image.fromarray((img[j].numpy()* 127.5 + 127.5).astype(np.uint8))\n",
        "        original_img.save(\"/content/drive/MyDrive/Deep Learning Project/dataset/original_\" + str(i) + \".jpg\")\n",
        "        im.save(\"/content/drive/MyDrive/Deep Learning Project/dataset\" + str(i) + \".jpg\")\n",
        "        i = i+1"
      ],
      "execution_count": null,
      "outputs": []
    },
    {
      "cell_type": "code",
      "metadata": {
        "id": "rzJfyNXdM6wl"
      },
      "source": [
        "photo_ds_test = load_dataset(PHOTO_FILENAMES, labeled=True).batch(1).cache().prefetch(AUTOTUNE)\n",
        "i = 1\n",
        "for img in photo_ds_test:\n",
        "    prediction = monet_generator(img, training=False).numpy()\n",
        "    prediction = (prediction * 127.5 + 127.5).astype(np.uint8)\n",
        "    for pred in prediction:\n",
        "        im = PIL.Image.fromarray(pred)\n",
        "        im.save(\"../images/\" + str(i) + \".jpg\")\n",
        "        i += 1"
      ],
      "execution_count": null,
      "outputs": []
    },
    {
      "cell_type": "code",
      "metadata": {
        "colab": {
          "base_uri": "https://localhost:8080/"
        },
        "id": "42zLwDKfMmMg",
        "outputId": "14c49ad5-29cd-4431-8cba-9ec07b2d5543"
      },
      "source": [
        "photo_ds_test"
      ],
      "execution_count": null,
      "outputs": [
        {
          "output_type": "execute_result",
          "data": {
            "text/plain": [
              "<PrefetchDataset shapes: (None, 256, 256, 3), types: tf.float32>"
            ]
          },
          "metadata": {
            "tags": []
          },
          "execution_count": 81
        }
      ]
    },
    {
      "cell_type": "code",
      "metadata": {
        "colab": {
          "base_uri": "https://localhost:8080/",
          "height": 35
        },
        "id": "iIbHwhLLmdAD",
        "outputId": "1b9002ef-c852-4a4b-aec2-851d558a2f28"
      },
      "source": [
        "import shutil\n",
        "shutil.make_archive(\"/images\", 'zip','/images')"
      ],
      "execution_count": null,
      "outputs": [
        {
          "output_type": "execute_result",
          "data": {
            "application/vnd.google.colaboratory.intrinsic+json": {
              "type": "string"
            },
            "text/plain": [
              "'/images.zip'"
            ]
          },
          "metadata": {
            "tags": []
          },
          "execution_count": 49
        }
      ]
    },
    {
      "cell_type": "code",
      "metadata": {
        "colab": {
          "base_uri": "https://localhost:8080/"
        },
        "id": "OyAxJcVctC1l",
        "outputId": "cd68ee5d-39c0-4974-8747-59702c65d17b"
      },
      "source": [
        "from google.colab import drive\n",
        "drive.mount('/content/drive')"
      ],
      "execution_count": null,
      "outputs": [
        {
          "output_type": "stream",
          "text": [
            "Mounted at /content/drive\n"
          ],
          "name": "stdout"
        }
      ]
    },
    {
      "cell_type": "code",
      "metadata": {
        "colab": {
          "base_uri": "https://localhost:8080/",
          "height": 17
        },
        "id": "gyVtAROOm2PZ",
        "outputId": "c7620adc-607b-4316-e068-af469a7a6252"
      },
      "source": [
        "from google.colab import files\n",
        "files.download('/images.zip')"
      ],
      "execution_count": null,
      "outputs": [
        {
          "output_type": "display_data",
          "data": {
            "application/javascript": [
              "\n",
              "    async function download(id, filename, size) {\n",
              "      if (!google.colab.kernel.accessAllowed) {\n",
              "        return;\n",
              "      }\n",
              "      const div = document.createElement('div');\n",
              "      const label = document.createElement('label');\n",
              "      label.textContent = `Downloading \"${filename}\": `;\n",
              "      div.appendChild(label);\n",
              "      const progress = document.createElement('progress');\n",
              "      progress.max = size;\n",
              "      div.appendChild(progress);\n",
              "      document.body.appendChild(div);\n",
              "\n",
              "      const buffers = [];\n",
              "      let downloaded = 0;\n",
              "\n",
              "      const channel = await google.colab.kernel.comms.open(id);\n",
              "      // Send a message to notify the kernel that we're ready.\n",
              "      channel.send({})\n",
              "\n",
              "      for await (const message of channel.messages) {\n",
              "        // Send a message to notify the kernel that we're ready.\n",
              "        channel.send({})\n",
              "        if (message.buffers) {\n",
              "          for (const buffer of message.buffers) {\n",
              "            buffers.push(buffer);\n",
              "            downloaded += buffer.byteLength;\n",
              "            progress.value = downloaded;\n",
              "          }\n",
              "        }\n",
              "      }\n",
              "      const blob = new Blob(buffers, {type: 'application/binary'});\n",
              "      const a = document.createElement('a');\n",
              "      a.href = window.URL.createObjectURL(blob);\n",
              "      a.download = filename;\n",
              "      div.appendChild(a);\n",
              "      a.click();\n",
              "      div.remove();\n",
              "    }\n",
              "  "
            ],
            "text/plain": [
              "<IPython.core.display.Javascript object>"
            ]
          },
          "metadata": {
            "tags": []
          }
        },
        {
          "output_type": "display_data",
          "data": {
            "application/javascript": [
              "download(\"download_5cdcd38c-f7a3-48d6-bd60-655b797a772a\", \"images.zip\", 114682606)"
            ],
            "text/plain": [
              "<IPython.core.display.Javascript object>"
            ]
          },
          "metadata": {
            "tags": []
          }
        }
      ]
    }
  ]
}